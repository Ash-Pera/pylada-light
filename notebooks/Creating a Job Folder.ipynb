{
 "cells": [
  {
   "cell_type": "markdown",
   "metadata": {},
   "source": [
    "# Organized high-throughput calculations: job-folders"
   ]
  },
  {
   "cell_type": "markdown",
   "metadata": {},
   "source": [
    "Pylada provides tools to organize high-throughput calculations in a systematic\n",
    "manner.  The whole high-throughput experience revolves around **job-folders**.\n",
    "These are convenient ways of organizing actual calculations. They can be though\n",
    "of as folders on a file system, or directories in unix parlance, each one\n",
    "dedicated to running a single actual calculation (eg launching :ref:`VASP\n",
    "<vasp_ug>` once). The added benefits beyond creating the same file-structure\n",
    "with bash are:\n",
    "\n",
    " 1. the ability to create a tree of folders/calculations using the power of the\n",
    "    python programming language. No more copy-pasting files and unintelligible\n",
    "    bash scripts!\n",
    " 2. the ability to launch all folders simultaneously\n",
    " 3. the ability to collect the results across all folders simultaneously, all\n",
    "    within python, and with all of python's goodies. E.g. no more copy-pasting\n",
    "    into excel by hand. Just do the summing, and multiplying, and graphing\n",
    "    there and then.\n",
    "\n",
    "\n",
    "Actually, there are a lot more benefits. Having everything - from input to\n",
    "output - within the same modern and efficient programming language means there\n",
    "is no limit to what can be achieved.\n",
    "\n",
    "The following describes how job-folders are created. The fun bits, \n",
    "launching jobs, collecting results, manipulating all job-folders\n",
    "simultaneously, can be found in the next section. Indeed, all of these are\n",
    "intrinsically linked to the Pylada's IPython interface.\n",
    "\n"
   ]
  },
  {
   "cell_type": "markdown",
   "metadata": {},
   "source": [
    "## Prep: creating a dummy functional\n",
    "\n",
    "First off, we will need a functional. Rather that use something heavy, like VASP, we will use a dummy functional which does pretty much nothing... We will write it to a file, so that it can be imported later on.\n"
   ]
  },
  {
   "cell_type": "code",
   "execution_count": 1,
   "metadata": {
    "collapsed": false
   },
   "outputs": [
    {
     "name": "stdout",
     "output_type": "stream",
     "text": [
      "Writing dummy.py\n"
     ]
    }
   ],
   "source": [
    "%%writefile dummy.py\n",
    "def functional(structure, outdir=None, value=False, **kwargs):\n",
    "    \"\"\" A dummy functional \"\"\"\n",
    "    from copy import deepcopy\n",
    "    from pickle import dump\n",
    "    from random import random\n",
    "    from py.path import local\n",
    "\n",
    "    structure = deepcopy(structure)\n",
    "    structure.value = value\n",
    "    outdir = local(outdir)\n",
    "    outdir.ensure(dir=True)\n",
    "    dump((random(), structure, value, functional), outdir.join('OUTCAR').open('wb'))\n",
    "\n",
    "    return Extract(outdir)"
   ]
  },
  {
   "cell_type": "markdown",
   "metadata": {},
   "source": [
    "This functional takes a few arguments, amongst which an output directory, and writes a file to disk. That's pretty much it.\n",
    "\n",
    "However, you'll notice that it returns an object of class `Extract`. We'll create this class in a second. This class is capable of checking whether the functional did run correctly or not (`Extract.success` attribute is `True` or `False`). For VASP or Espresso, it is also capable of parsing output files to recover quantities, like the total energy or the eigenvalues.\n",
    "\n",
    "This class is not completely necessary to create the Job Folder, but knowing when a job a successful and being able to easily process it's ouput are really nice features to have.\n",
    "\n",
    "The following is a dummy Extraction classs for the dummy functional. It knows to check for the existence of an `OUTCAR` file (a dummy `OUTCAR`, not a real one) and how to parse it."
   ]
  },
  {
   "cell_type": "code",
   "execution_count": 2,
   "metadata": {
    "collapsed": false
   },
   "outputs": [
    {
     "name": "stdout",
     "output_type": "stream",
     "text": [
      "Appending to dummy.py\n"
     ]
    }
   ],
   "source": [
    "%%writefile -a dummy.py\n",
    "\n",
    "def Extract(outdir=None):\n",
    "    \"\"\" An extraction function for a dummy functional \"\"\"\n",
    "    from os import getcwd\n",
    "    from collections import namedtuple\n",
    "    from pickle import load\n",
    "    from py.path import local\n",
    "\n",
    "    if outdir == None:\n",
    "        outdir = local()()\n",
    "    Extract = namedtuple('Extract', ['success', 'directory',\n",
    "                                     'energy', 'structure', 'value', 'functional'])\n",
    "    outdir = local(outdir)\n",
    "    if not outdir.check():\n",
    "        return Extract(False, str(outdir), None, None, None, None)\n",
    "    if not outdir.join('OUTCAR').check(file=True):\n",
    "        return Extract(False, str(outdir), None, None, None, None)\n",
    "    with outdir.join('OUTCAR').open('rb') as file:\n",
    "        structure, energy, value, functional = load(file)\n",
    "        return Extract(True, outdir, energy, structure, value, functional)\n",
    "functional.Extract = Extract"
   ]
  },
  {
   "cell_type": "markdown",
   "metadata": {},
   "source": [
    "## Creating and accessing job-folders\n",
    "\n",
    "Job-folders can be created with two simple lines of codes:"
   ]
  },
  {
   "cell_type": "code",
   "execution_count": 3,
   "metadata": {
    "collapsed": true
   },
   "outputs": [],
   "source": [
    "from pylada.jobfolder import JobFolder\n",
    "root = JobFolder()"
   ]
  },
  {
   "cell_type": "markdown",
   "metadata": {},
   "source": [
    "To add further job-folders, one can do:"
   ]
  },
  {
   "cell_type": "code",
   "execution_count": 4,
   "metadata": {
    "collapsed": true
   },
   "outputs": [],
   "source": [
    "jobA = root / 'jobA'\n",
    "jobB = root / 'another' / 'jobB'\n",
    "jobBprime = root / 'another' / 'jobB' / 'prime'"
   ]
  },
  {
   "cell_type": "markdown",
   "metadata": {},
   "source": [
    "As you can, see job-folders can be given any structure that on-disk directories can. What is more, a job-folder can access other job-folders with the same kind of syntax that one would use (on unices) to access other directories:\n"
   ]
  },
  {
   "cell_type": "code",
   "execution_count": 5,
   "metadata": {
    "collapsed": true
   },
   "outputs": [],
   "source": [
    "assert jobA['/'] is root\n",
    "assert jobA['../another/jobB'] is jobB\n",
    "assert jobB['prime'] is jobBprime\n",
    "assert jobBprime['../../'] is not jobB"
   ]
  },
  {
   "cell_type": "markdown",
   "metadata": {},
   "source": [
    "And trying to access non-existing folders will get you in trouble:"
   ]
  },
  {
   "cell_type": "code",
   "execution_count": 6,
   "metadata": {
    "collapsed": true
   },
   "outputs": [],
   "source": [
    "try:\n",
    "    root['..']\n",
    "except KeyError:\n",
    "    pass\n",
    "else:\n",
    "    raise Exception(\"I expected an error\")"
   ]
  },
  {
   "cell_type": "markdown",
   "metadata": {},
   "source": [
    "Furthermore, job-folders know what they are:"
   ]
  },
  {
   "cell_type": "code",
   "execution_count": 7,
   "metadata": {
    "collapsed": false
   },
   "outputs": [
    {
     "data": {
      "text/plain": [
       "'/jobA/'"
      ]
     },
     "execution_count": 7,
     "metadata": {},
     "output_type": "execute_result"
    }
   ],
   "source": [
    "jobA.name"
   ]
  },
  {
   "cell_type": "markdown",
   "metadata": {},
   "source": [
    "Who they're parents are:"
   ]
  },
  {
   "cell_type": "code",
   "execution_count": 8,
   "metadata": {
    "collapsed": false
   },
   "outputs": [
    {
     "data": {
      "text/plain": [
       "'/another/'"
      ]
     },
     "execution_count": 8,
     "metadata": {},
     "output_type": "execute_result"
    }
   ],
   "source": [
    "jobB.parent.name"
   ]
  },
  {
   "cell_type": "markdown",
   "metadata": {},
   "source": [
    "They know about their sub-folders:"
   ]
  },
  {
   "cell_type": "code",
   "execution_count": 9,
   "metadata": {
    "collapsed": false
   },
   "outputs": [],
   "source": [
    "assert 'prime' in jobB\n",
    "assert '/jobA' in jobBprime"
   ]
  },
  {
   "cell_type": "markdown",
   "metadata": {},
   "source": [
    "As well as their ancestral lineage all the way to the first matriarch:"
   ]
  },
  {
   "cell_type": "code",
   "execution_count": 10,
   "metadata": {
    "collapsed": false
   },
   "outputs": [],
   "source": [
    "assert jobB.root is root"
   ]
  },
  {
   "cell_type": "markdown",
   "metadata": {},
   "source": [
    "## A Job-folder that executes code\n",
    "\n",
    "The whole point of a job-folder is to create an architecture for calculations. Each job-folder can contain at most a single calculation. A calculation is setup by passing to the job-folder a function and the parameters for calling it.\n"
   ]
  },
  {
   "cell_type": "code",
   "execution_count": 11,
   "metadata": {
    "collapsed": false
   },
   "outputs": [],
   "source": [
    "from pylada.crystal.binary import zinc_blende\n",
    "from dummy import functional\n",
    "\n",
    "jobA.functional = functional\n",
    "jobA.params['structure'] = zinc_blende()\n",
    "jobA.params['value'] = 5"
   ]
  },
  {
   "cell_type": "markdown",
   "metadata": {},
   "source": [
    "In the above, the function `functional` from the dummy module created previously is imported into the namespace. The special attribute `job.functional` is set to `functional`. Two arguments, `structure` and `value`, are specified by adding the to the dictionary `job.params`. Please note that the third line does not contain parenthesis: this is not a function call, it merely saves a reference to the function with the object of calling it later. 'C' aficionados should think a saving a pointer to a function.\n",
    "\n",
    "**Warning**: The reference to ``functional`` is [deepcopied](http://docs.python.org/library/copy.html#copy.deepcopy): the instance that is saved to jod-folder is *not* the one that was passed to it. On the other hand, the parameters (``jobA.params``) are held by reference rather than by value.\n",
    "\n",
    "\n",
    "**Tip**: To force a job-folder to hold a functional by reference rather than by value, do:\n",
    "\n",
    "```Python\n",
    "jobA._functional = functional\n",
    "```\n",
    "\n",
    "The parameters  in `job.params` should be [pickleable](http://docs.python.org/library/pickle.html#what-can-be-pickled-and-unpickled) so that the folder can be saved to disk later. `Jobfolder.functional` must be a\n",
    "pickleable and [callable](http://docs.python.org/reference/datamodel.html#emulating-callable-objects). Setting `Jobfolder.functional` to\n",
    "something else will immediately fail. In practice, this means it can be a\n",
    "function or a callable class, as long as that function or class is imported from a module. It cannot be defined in `__main__`, e.g. the script that you run to create the job-folders. And that's *why* the dummy functional in this example is written to it's own `dummy.py` file.\n",
    "\n",
    "That said, we can now execute each jobA by calling the function `compute`:"
   ]
  },
  {
   "cell_type": "code",
   "execution_count": 12,
   "metadata": {
    "collapsed": false
   },
   "outputs": [],
   "source": [
    "directory = \"tmp/\" + jobA.name[1:]\n",
    "result = jobA.compute(outdir=directory)\n",
    "assert result.success"
   ]
  },
  {
   "cell_type": "markdown",
   "metadata": {},
   "source": [
    "Assuming that you the unix program `tree`, the following will show that an `OUTCAR` file was created in the right directory:"
   ]
  },
  {
   "cell_type": "code",
   "execution_count": 13,
   "metadata": {
    "collapsed": false
   },
   "outputs": [
    {
     "name": "stdout",
     "output_type": "stream",
     "text": [
      "tmp/\n",
      "└── jobA\n",
      "    └── OUTCAR\n",
      "\n",
      "1 directory, 1 file\n"
     ]
    }
   ],
   "source": [
    "%%bash\n",
    "[ ! -e tree ] || tree tmp/"
   ]
  },
  {
   "cell_type": "markdown",
   "metadata": {},
   "source": [
    "Running the job-folder `jobA` is exactly equivalent to calling the functional directly: \n",
    "\n",
    "```python\n",
    "functional(structure=zinc_blende(), value=5, outdir='tmp/jobA')\n",
    "```\n",
    "\n",
    "In practice, what we have done is created an interface where any program can be called in the same way. This will be extremly useful when launching many jobs simultaneously."
   ]
  },
  {
   "cell_type": "markdown",
   "metadata": {},
   "source": [
    "## Creating multiple executable jobs\n",
    "\n",
    "The crux of this setup is the ability to create jobs programmatically:\n",
    "\n",
    "\n",
    "Finally, let's not that *executable* job-folders (i.e. for which `jofolder.functional` is set) can be easily iterated over with `jobfolder.keys()`, `jobfolder.values()`, and `jobfolder.items()`."
   ]
  },
  {
   "cell_type": "code",
   "execution_count": 14,
   "metadata": {
    "collapsed": false
   },
   "outputs": [
    {
     "name": "stdout",
     "output_type": "stream",
     "text": [
      "Folders: \n",
      "  GaAs\n",
      "  diamond\n",
      "  diamond/alloy\n",
      "\n"
     ]
    }
   ],
   "source": [
    "from pylada.jobfolder import JobFolder\n",
    "from pylada.crystal.binary import zinc_blende\n",
    "\n",
    "root = JobFolder()\n",
    "\n",
    "structures = ['diamond', 'diamond/alloy', 'GaAs']\n",
    "stuff = [0, 1, 2]\n",
    "species = [('Si', 'Si'), ('Si', 'Ge'), ('Ga', 'As')]\n",
    "\n",
    "for name, value, species in zip(structures, stuff, species):\n",
    "    job = root / name\n",
    "    job.functional = functional\n",
    "    job.params['value'] = value\n",
    "    job.params['structure'] = zinc_blende()\n",
    "    \n",
    "    for atom, specie in zip(job.structure, species):\n",
    "        atom.type = specie\n",
    "\n",
    "print(root)"
   ]
  },
  {
   "cell_type": "markdown",
   "metadata": {},
   "source": [
    "We can now iterate over executable subfolders:"
   ]
  },
  {
   "cell_type": "code",
   "execution_count": 15,
   "metadata": {
    "collapsed": false
   },
   "outputs": [
    {
     "name": "stdout",
     "output_type": "stream",
     "text": [
      "['GaAs', 'diamond', 'diamond/alloy']\n"
     ]
    }
   ],
   "source": [
    "print(list(root.keys()))"
   ]
  },
  {
   "cell_type": "markdown",
   "metadata": {},
   "source": [
    "Or subsets of executable folders:"
   ]
  },
  {
   "cell_type": "code",
   "execution_count": 16,
   "metadata": {
    "collapsed": false
   },
   "outputs": [
    {
     "name": "stdout",
     "output_type": "stream",
     "text": [
      "diamond/   with  2  atoms\n",
      "diamond/ alloy  with  2  atoms\n"
     ]
    }
   ],
   "source": [
    "for jobname, job in root['diamond'].items():\n",
    "    print(\"diamond/\", jobname, \" with \", len(job.params['structure']), \" atoms\")"
   ]
  },
  {
   "cell_type": "markdown",
   "metadata": {},
   "source": [
    "## Saving to disk using the python API\n",
    "\n",
    "Jobfolders can be saved to and loaded from disk using python functions:"
   ]
  },
  {
   "cell_type": "code",
   "execution_count": 17,
   "metadata": {
    "collapsed": false
   },
   "outputs": [
    {
     "name": "stdout",
     "output_type": "stream",
     "text": [
      "Folders: \n",
      "  GaAs\n",
      "  diamond\n",
      "  diamond/alloy\n",
      "\n"
     ]
    }
   ],
   "source": [
    "from pylada.jobfolder import load, save\n",
    "save(root, 'root.dict', overwrite=True) # saves to file\n",
    "root = load('root.dict') # loads from file\n",
    "print(root)"
   ]
  },
  {
   "cell_type": "markdown",
   "metadata": {},
   "source": [
    "But `pylada` also provides an ipython interface for dealing with jobfolders. It is described elsewhere. The difference between the python and the `ipython` interfaces are a matter of convenience."
   ]
  }
 ],
 "metadata": {
  "kernelspec": {
   "display_name": "Python 3",
   "language": "python",
   "name": "python3"
  },
  "language_info": {
   "codemirror_mode": {
    "name": "ipython",
    "version": 3
   },
   "file_extension": ".py",
   "mimetype": "text/x-python",
   "name": "python",
   "nbconvert_exporter": "python",
   "pygments_lexer": "ipython3",
   "version": "3.5.2"
  }
 },
 "nbformat": 4,
 "nbformat_minor": 0
}
